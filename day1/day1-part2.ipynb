{
 "cells": [
  {
   "cell_type": "code",
   "execution_count": 79,
   "metadata": {},
   "outputs": [
    {
     "name": "stdout",
     "output_type": "stream",
     "text": [
      "54258\n"
     ]
    }
   ],
   "source": [
    "import re\n",
    "\n",
    "'''\n",
    "# day 1 part 2\n",
    "\n",
    "two1nine:29\n",
    "eightwothree:83\n",
    "abcone2threexyz:13\n",
    "xtwone3four:24\n",
    "4nineeightseven2:42\n",
    "zoneight234:14\n",
    "7pqrstsixteen:76\n",
    "'''\n",
    "\n",
    "with open('puzzle-input.txt') as file:\n",
    "    calibration_data = [line.strip() for line in file]\n",
    "\n",
    "main_numbers_list = []\n",
    "\n",
    "def get_numbers(line):\n",
    "    # regex to find either digits or spelled out numbers\n",
    "    numbers_regex = re.compile('(zero|one|two|three|four|five|six|seven|eight|nine|\\d)')\n",
    "    # list of all numbers in the line\n",
    "    numbers_list = numbers_regex.findall(line)\n",
    "    for number in numbers_list:\n",
    "        if number == 'zero':\n",
    "            numbers_list[numbers_list.index(number)] = 0\n",
    "        elif number == 'one':\n",
    "            numbers_list[numbers_list.index(number)] = 1\n",
    "        elif number == 'two':\n",
    "            numbers_list[numbers_list.index(number)] = 2\n",
    "        elif number == 'three':\n",
    "            numbers_list[numbers_list.index(number)] = 3\n",
    "        elif number == 'four':\n",
    "            numbers_list[numbers_list.index(number)] = 4\n",
    "        elif number == 'five':\n",
    "            numbers_list[numbers_list.index(number)] = 5\n",
    "        elif number == 'six':\n",
    "            numbers_list[numbers_list.index(number)] = 6\n",
    "        elif number == 'seven':\n",
    "            numbers_list[numbers_list.index(number)] = 7\n",
    "        elif number == 'eight':\n",
    "            numbers_list[numbers_list.index(number)] = 8\n",
    "        elif number == 'nine':\n",
    "            numbers_list[numbers_list.index(number)] = 9\n",
    "    return numbers_list\n",
    "\n",
    "for line in calibration_data:\n",
    "    # get list of numbers in the line\n",
    "    numbers_on_current_line = get_numbers(line)\n",
    "    x = str(numbers_on_current_line[0])\n",
    "    y = str(numbers_on_current_line[-1])\n",
    "    # this concatenates the first and last number in the line\n",
    "    line_number = x + y\n",
    "    # cast the concatenated number to an int and add it to the main list\n",
    "    main_numbers_list.append(int(line_number))\n",
    "\n",
    "# sum all the numbers in the list\n",
    "total = sum(main_numbers_list)\n",
    "print(total)\n",
    "\n",
    "    \n",
    "\n"
   ]
  }
 ],
 "metadata": {
  "kernelspec": {
   "display_name": "Python 3",
   "language": "python",
   "name": "python3"
  },
  "language_info": {
   "codemirror_mode": {
    "name": "ipython",
    "version": 3
   },
   "file_extension": ".py",
   "mimetype": "text/x-python",
   "name": "python",
   "nbconvert_exporter": "python",
   "pygments_lexer": "ipython3",
   "version": "3.11.5"
  }
 },
 "nbformat": 4,
 "nbformat_minor": 2
}
